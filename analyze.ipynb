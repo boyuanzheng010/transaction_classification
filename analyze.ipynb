{
 "cells": [
  {
   "cell_type": "code",
   "execution_count": 1,
   "metadata": {
    "collapsed": true,
    "pycharm": {
     "name": "#%%\n"
    }
   },
   "outputs": [],
   "source": [
    "import csv"
   ]
  },
  {
   "cell_type": "code",
   "execution_count": null,
   "outputs": [],
   "source": [],
   "metadata": {
    "collapsed": false,
    "pycharm": {
     "name": "#%%\n"
    }
   }
  },
  {
   "cell_type": "code",
   "execution_count": null,
   "outputs": [],
   "source": [
    "['sor', 'cdf_seq_no', 'trans_desc', 'merchant_cat_code', 'amt', 'db_cr_cd', 'payment_reporting_category', 'payment_category', 'is_international', 'default_brand', 'default_location', 'qrated_brand', 'coalesced_brand', 'Category', 'state', 'merchant_cat', 'sor_1', 'db_cr_cd_1', 'is_international_1', 'payment_category_1', 'state_1', 'merchant_cat_1', 'Category_1']"
   ],
   "metadata": {
    "collapsed": false,
    "pycharm": {
     "name": "#%%\n"
    }
   }
  },
  {
   "cell_type": "code",
   "execution_count": null,
   "outputs": [],
   "source": [],
   "metadata": {
    "collapsed": false,
    "pycharm": {
     "name": "#%%\n"
    }
   }
  },
  {
   "cell_type": "code",
   "execution_count": 3,
   "outputs": [],
   "source": [
    "data = []\n",
    "with open('data/train_processed.csv', 'r') as f:\n",
    "    reader = csv.DictReader(f)\n",
    "    for item in reader:\n",
    "        data.append(item)"
   ],
   "metadata": {
    "collapsed": false,
    "pycharm": {
     "name": "#%%\n"
    }
   }
  },
  {
   "cell_type": "code",
   "execution_count": 9,
   "outputs": [
    {
     "name": "stdout",
     "output_type": "stream",
     "text": [
      "Delta Dental\n",
      "Surety Solutions\n",
      "The Copy Stop\n",
      "Market Alert\n",
      "Hometown Insurance Partners\n",
      "Ezee Title Loans\n",
      "Mirage Insurance\n",
      "Allied Financial\n",
      "Unifour Financial Services\n",
      "Credit Union West Glendale Az\n",
      "Quorum Fcu Glenview Il\n",
      "Forex.com\n",
      "Kanawha Insurance\n",
      "K And K Insurance\n",
      "Mr Es Sports Cards And Collectibles\n",
      "The Perfect Card Box\n",
      "American Latina Insurance\n",
      "Mclarnon Regina\n",
      "Freeway Financial Services\n",
      "Bremer Bank\n",
      "Citibank\n",
      "Altier Credit Union\n",
      "American Express\n",
      "Hsbc\n",
      "Homefirst Agency\n",
      "Lucky Money\n",
      "Seguros Para Hispanos\n",
      "Kirbycard\n",
      "Nco Financial Systems\n",
      "Valutec Card Solutions\n",
      "Sierra Auto Finance\n",
      "Easy Money\n",
      "Stanger Insurance\n",
      "Mexipass International Insurance Services\n",
      "Helm Associates\n",
      "SHAREBUILDER SUBSCRIPT\n",
      "Usaa\n",
      "General Southwest Insurance Agency\n",
      "Homelife Warranty Protection\n",
      "Mhp Investment And Leasing\n",
      "Le Royal Wok\n",
      "Ace Cash Express\n",
      "Selective Insurance\n",
      "Shea Mortgage\n",
      "Focus Financial\n",
      "Easy Pay Loan Agency\n",
      "Heinens\n",
      "Kimberly Mart\n",
      "Home Savings Bank\n",
      "Bank Of Colorado\n",
      "Thrivent Financial Bank\n",
      "Ardite Insurance Agency\n",
      "Cardtronics Atm\n",
      "Aegis Security Insurance\n",
      "Zurich Agency Services\n",
      "MICRO\n",
      "Utica First Insurance Company\n",
      "Alvarez Insurance\n",
      "Bbva Compass\n",
      "Francis L Dean And Associates\n",
      "Ag Insurance\n",
      "B And B Insurance Agency\n",
      "Cardtronics Atm\n",
      "Tapco Underwriters\n",
      "Central Pacific Bank\n",
      "Qrs Insurance Solutions\n",
      "Jiffys\n",
      "Greenhouse Of Flagstaff\n",
      "Palisade One Stop\n",
      "Sound Credit Union\n",
      "World Financial\n",
      "Iso Insurance\n",
      "Connaway And Associates Equine Insurance Services\n",
      "Anthem Blue Cross Blue Shield\n",
      "Suntrust Bank\n",
      "Fairway Independent Mortgage\n",
      "Visa Transfer\n",
      "Payment Savvy\n",
      "Burley And Associates\n",
      "Pronto Insurance Cantu Insurance Services\n",
      "Humana Military Healthcare Services\n",
      "Minico Insurance Agency\n",
      "Bank Of\n",
      "Ahg Home Warranty\n",
      "Bell Black Insurance\n",
      "Aflac\n",
      "C And F Finance\n",
      "Aria Financial Services\n",
      "Touchstone Financial\n",
      "Florida Healthy Kids\n",
      "Global View\n",
      "Envoy Mortgage\n",
      "Aaa Central Parkway\n",
      "Teamwork Financial\n",
      "Chase\n",
      "Bank Of America\n",
      "Friendly Finance\n",
      "The Solutions\n",
      "Q Superette\n",
      "Ciudad De Mexico\n",
      "Edcas Insurance Services\n",
      "Cam\n",
      "Genworth Life And Annuity Insurance\n",
      "Groberic Insurance And Financial Services\n",
      "Basic Finance\n",
      "QUASI CASH NONFI 1111\n",
      "Valutec Card Solutions\n",
      "Southwest Missouri Bank\n",
      "First Financial\n",
      "America First Credit Union\n",
      "Utah First Credit Union\n",
      "Benetech\n",
      "Cam\n",
      "Integrity Insurance\n",
      "Quicken Loans\n",
      "On Deck Sportscards\n",
      "Pls Financial Services\n",
      "Vcucard Office\n",
      "Marine One Acceptance\n",
      "Insurance Solutions\n",
      "Citibank\n",
      "Grange Insurance\n",
      "Nodak Insurance Company\n",
      "Cnn Mortgage\n",
      "Usfunding Solutions\n",
      "B And B Processing\n",
      "Jpay\n",
      "Deseret First Credit Union\n",
      "Insphere Insurance Solutions\n",
      "Fxcm\n",
      "Usi Affinity Travel Insurance Services\n",
      "Loandepot\n",
      "Insureon\n",
      "Francis L Dean And Associates\n",
      "Pscu\n",
      "Pscu\n",
      "Us Games Systems\n",
      "Inland Empire Health Plan\n",
      "NFCU NFO MEMBERSHIP FE\n",
      "Solution Loans\n",
      "Bank Of\n",
      "Cardtronics Atm\n",
      "Jaxson Insurance\n",
      "G.i. Loan Shop\n",
      "Beehive Federal Credit Union\n",
      "The Hook Up Ave\n",
      "Leader Insurance\n",
      "Eubank Hutson And Associates\n",
      "First Virginia\n",
      "Aaa North Dayton\n",
      "Pan American Finance\n",
      "Redwood Credit Union\n",
      "Wells Fargo\n",
      "Community Wellness And Safety Of Arizona\n",
      "Michaels Gift Shop\n",
      "Canyon Financial\n",
      "Pcs Receivables Corp\n",
      "Deans And Homer\n",
      "Crescent Bank And Trust\n",
      "Coordinated Claim Services L.l.c\n",
      "Centene\n",
      "Safety Plus Insurance\n",
      "Visa Usa\n",
      "G And G Insurance\n",
      "Kenny Ong Financial Services\n",
      "Choice Home Warranty\n",
      "Denverautographs.com\n",
      "Safequest Insurance Brokerage\n",
      "Barclays\n",
      "Mortgage Services\n",
      "Citibank\n",
      "SANTANDERCONSUMERUSA\n",
      "Usaa\n",
      "Shore Mortgage\n",
      "Euler Hermes Uma\n",
      "Rr And Associates Insurance Agency\n",
      "Haas And Wilkerson\n",
      "Ontario Sanitary Service\n",
      "Us Premium Finance\n",
      "Cardtronics Atm\n",
      "Fidelity Investments\n",
      "Foremost Insurance\n",
      "Propay\n",
      "Cowboy Finance\n",
      "Deli Grocer\n"
     ]
    }
   ],
   "source": [
    "for item in data:\n",
    "\n",
    "    if item['Category']==\"Finance\":\n",
    "        print(item['coalesced_brand'])"
   ],
   "metadata": {
    "collapsed": false,
    "pycharm": {
     "name": "#%%\n"
    }
   }
  },
  {
   "cell_type": "code",
   "execution_count": 10,
   "outputs": [],
   "source": [
    "categories = set()\n",
    "for item in data:\n",
    "    categories.add(item['Category'])"
   ],
   "metadata": {
    "collapsed": false,
    "pycharm": {
     "name": "#%%\n"
    }
   }
  },
  {
   "cell_type": "code",
   "execution_count": null,
   "outputs": [],
   "source": [],
   "metadata": {
    "collapsed": false,
    "pycharm": {
     "name": "#%%\n"
    }
   }
  },
  {
   "cell_type": "code",
   "execution_count": null,
   "outputs": [],
   "source": [],
   "metadata": {
    "collapsed": false,
    "pycharm": {
     "name": "#%%\n"
    }
   }
  },
  {
   "cell_type": "code",
   "execution_count": null,
   "outputs": [],
   "source": [],
   "metadata": {
    "collapsed": false,
    "pycharm": {
     "name": "#%%\n"
    }
   }
  },
  {
   "cell_type": "code",
   "execution_count": null,
   "outputs": [],
   "source": [],
   "metadata": {
    "collapsed": false,
    "pycharm": {
     "name": "#%%\n"
    }
   }
  },
  {
   "cell_type": "code",
   "execution_count": null,
   "outputs": [],
   "source": [],
   "metadata": {
    "collapsed": false,
    "pycharm": {
     "name": "#%%\n"
    }
   }
  },
  {
   "cell_type": "code",
   "execution_count": null,
   "outputs": [],
   "source": [],
   "metadata": {
    "collapsed": false,
    "pycharm": {
     "name": "#%%\n"
    }
   }
  },
  {
   "cell_type": "code",
   "execution_count": null,
   "outputs": [],
   "source": [],
   "metadata": {
    "collapsed": false,
    "pycharm": {
     "name": "#%%\n"
    }
   }
  }
 ],
 "metadata": {
  "kernelspec": {
   "display_name": "Python 3",
   "language": "python",
   "name": "python3"
  },
  "language_info": {
   "codemirror_mode": {
    "name": "ipython",
    "version": 2
   },
   "file_extension": ".py",
   "mimetype": "text/x-python",
   "name": "python",
   "nbconvert_exporter": "python",
   "pygments_lexer": "ipython2",
   "version": "2.7.6"
  }
 },
 "nbformat": 4,
 "nbformat_minor": 0
}